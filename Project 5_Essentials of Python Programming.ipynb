{
 "cells": [
  {
   "cell_type": "markdown",
   "metadata": {},
   "source": [
    "<b>Presented by Priyanka Fonia, a Data Science and Business Analytics Intern at AINE AI</b>\n",
    "\n",
    "<b> From November 2021 batch<b>\n",
    "\n",
    "<u> **TASK 1:**<u>\n",
    "    \n",
    "Project 5: Essentials of Python Programming\n",
    "\n",
    "<u><b>Objective:</b><u>\n",
    "    \n",
    "Developing ‘Rock, Paper and Scissors’ game using Python programming"
   ]
  },
  {
   "cell_type": "markdown",
   "metadata": {},
   "source": [
    "**Project 5: Essentials of Python Programming**\n",
    " "
   ]
  },
  {
   "cell_type": "markdown",
   "metadata": {},
   "source": [
    "<u> **1. Importing the RANDOM module** <U>"
   ]
  },
  {
   "cell_type": "code",
   "execution_count": 33,
   "metadata": {},
   "outputs": [],
   "source": [
    "import random"
   ]
  },
  {
   "cell_type": "markdown",
   "metadata": {},
   "source": [
    "Python has a ability of generating random numbers and these numbers are stored in **random** module.\n",
    "\n",
    "This random module can be imported using **import random**.\n",
    "\n",
    "There are three types of random functions:\n",
    "\n",
    "        1. random() [to import random floating point between 0 and 1]\n",
    "        2. randint() [to generate random numbers between the provided range\n",
    "        3. uniform() [to generate random floating numbers betweem the provided range]"
   ]
  },
  {
   "cell_type": "markdown",
   "metadata": {},
   "source": [
    "<U>**2. Taking the player INPUT**<U>"
   ]
  },
  {
   "cell_type": "code",
   "execution_count": 34,
   "metadata": {},
   "outputs": [
    {
     "name": "stdin",
     "output_type": "stream",
     "text": [
      "Please select one (rock, paper, scissors): rock\n"
     ]
    }
   ],
   "source": [
    "You=input(\"Please select one (rock, paper, scissors):\") #\"=\" is used for assigning the values"
   ]
  },
  {
   "cell_type": "markdown",
   "metadata": {},
   "source": [
    "**Input** function is used for generating an input box that takes the values provided by the user.\n",
    "\n",
    "It is generally stored in a variable or can say assigned to a variable"
   ]
  },
  {
   "cell_type": "markdown",
   "metadata": {},
   "source": [
    "<u>**3. Making the computer to choose**<u>"
   ]
  },
  {
   "cell_type": "code",
   "execution_count": 35,
   "metadata": {},
   "outputs": [],
   "source": [
    "Possible_choices= [\"rock\", \"paper\", \"scissors\"] #all mentioned values between [] are making \"list\"\n",
    "Computer= random.choice(Possible_choices)#random module with choice function will take random words from the \"list\""
   ]
  },
  {
   "cell_type": "markdown",
   "metadata": {},
   "source": [
    "There the variable **Possible_choices** are assigned by three values.\n",
    "\n",
    "The random function will select any option from **Possible_choices** from the assigned three values."
   ]
  },
  {
   "cell_type": "markdown",
   "metadata": {},
   "source": [
    "<u>**4. Declaring the choices of You and the Computer**<u>"
   ]
  },
  {
   "cell_type": "code",
   "execution_count": 36,
   "metadata": {},
   "outputs": [
    {
     "name": "stdout",
     "output_type": "stream",
     "text": [
      "You chose rock, computer chose scissors\n"
     ]
    }
   ],
   "source": [
    "print(f\"You chose {You}, computer chose {Computer}\") #print is used to print the provided message as an ouput"
   ]
  },
  {
   "cell_type": "markdown",
   "metadata": {},
   "source": [
    "Here putting **f** will include the defined variables (You, Computer) into the **print** statement as a **Varibale**."
   ]
  },
  {
   "cell_type": "markdown",
   "metadata": {},
   "source": [
    "<u>**5. Concatenated print statements**<u>"
   ]
  },
  {
   "cell_type": "code",
   "execution_count": 37,
   "metadata": {},
   "outputs": [
    {
     "name": "stdout",
     "output_type": "stream",
     "text": [
      "rock paper\n",
      "rock scissors\n",
      "paper scissors\n",
      "scissors rock\n"
     ]
    }
   ],
   "source": [
    "a=\"rock\"\n",
    "b=\"paper\"\n",
    "c=\"scissors\"\n",
    "\n",
    "print(a+\" \"+b)\n",
    "print(a+\" \"+c)\n",
    "print(b+\" \"+c)\n",
    "print(c+\" \"+a)"
   ]
  },
  {
   "cell_type": "markdown",
   "metadata": {},
   "source": [
    "<u>**6. Determining the Winner**<u>"
   ]
  },
  {
   "cell_type": "code",
   "execution_count": 38,
   "metadata": {},
   "outputs": [
    {
     "name": "stdout",
     "output_type": "stream",
     "text": [
      "Rock smashes scissors!You win!\n"
     ]
    }
   ],
   "source": [
    "#different conditions will be taken in order to determine the winner\n",
    "#Condition 1: If the player and the computer will choose the same option\n",
    "\n",
    "if You == Computer:  #if is used to take condition on which decision needs to be taken.\n",
    "    print(f\"Both players selected {user_action}. It's a tie!\") #function f will include the variable into the string\n",
    "    \n",
    "\n",
    "#Condition 2: If the player chooses \"rock\" but the computer chooses \"scissors\"    \n",
    "elif You == \"rock\":  #elif helps to check for multiple expression and to check if the condition is TRUE or FALSE\n",
    "    if Computer == \"scissors\":\n",
    "        print(\"Rock smashes scissors!\" + \"You win!\") #\"+\" sign helps concatenating the two different statements\n",
    "    else:     #else will take another condition in case previous given condition is not TRUE\n",
    "        print(\"Paper covers rock!\" + \"You lose.\")\n",
    "        \n",
    "        \n",
    "#Condition 3: If the player chooses \"paper\" but the computer chooses \"rock\"    \n",
    "elif You == \"paper\": #\"==\" sign is a comparision operator, it returns TRUE if the two items are equal\n",
    "    if Computer == \"rock\":\n",
    "        print(\"Paper covers rock! You win!\")\n",
    "    else:\n",
    "        print(\"Scissors cuts paper! You lose.\")\n",
    "        \n",
    "        \n",
    "#Condition 4: If the player chooses \"scissors\" but the computer chooses \"paper\"        \n",
    "elif You == \"scissors\":\n",
    "    if Computer == \"paper\":\n",
    "        print(\"Scissors cuts paper! You win!\")\n",
    "    else:\n",
    "        print(\"Rock smashes scissors! You lose.\")\n",
    "    \n",
    "    \n",
    "    "
   ]
  },
  {
   "cell_type": "markdown",
   "metadata": {},
   "source": [
    "<u>**The Whole Game:**<u>"
   ]
  },
  {
   "cell_type": "code",
   "execution_count": null,
   "metadata": {},
   "outputs": [],
   "source": [
    "import random\n",
    "\n",
    "while True:\n",
    "    You = input(\"Enter a choice (rock, paper, scissors): \")\n",
    "    possible_actions = [\"rock\", \"paper\", \"scissors\"]\n",
    "    Computer = random.choice(possible_actions)\n",
    "    print(f\"\\nYou chose {You}, computer chose {Computer}.\\n\")\n",
    "\n",
    "    if You == Computer:\n",
    "        print(f\"Both players selected {You}. It's a tie!\")\n",
    "    elif You == \"rock\":\n",
    "        if Computer == \"scissors\":\n",
    "            print(\"Rock smashes scissors! You win!\")\n",
    "        else:\n",
    "            print(\"Paper covers rock! You lose.\")\n",
    "    elif You == \"paper\":\n",
    "        if Computer == \"rock\":\n",
    "            print(\"Paper covers rock! You win!\")\n",
    "        else:\n",
    "            print(\"Scissors cuts paper! You lose.\")\n",
    "    elif You == \"scissors\":\n",
    "        if Computer == \"paper\":\n",
    "            print(\"Scissors cuts paper! You win!\")\n",
    "        else:\n",
    "            print(\"Rock smashes scissors! You lose.\")\n",
    "\n",
    "    play_again = input(\"Play again? (y/n): \")\n",
    "    if play_again.lower() != \"y\":   #lower keyword will make any capital letter in lower case #\"!\" is a NOT logical operator in Python\n",
    "        break   # stopping the further execution of the loop"
   ]
  },
  {
   "cell_type": "code",
   "execution_count": null,
   "metadata": {},
   "outputs": [],
   "source": []
  }
 ],
 "metadata": {
  "kernelspec": {
   "display_name": "Python 3",
   "language": "python",
   "name": "python3"
  },
  "language_info": {
   "codemirror_mode": {
    "name": "ipython",
    "version": 3
   },
   "file_extension": ".py",
   "mimetype": "text/x-python",
   "name": "python",
   "nbconvert_exporter": "python",
   "pygments_lexer": "ipython3",
   "version": "3.8.5"
  }
 },
 "nbformat": 4,
 "nbformat_minor": 4
}
